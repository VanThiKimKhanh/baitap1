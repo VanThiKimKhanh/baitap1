{
  "nbformat": 4,
  "nbformat_minor": 0,
  "metadata": {
    "colab": {
      "name": "btap.ipynb",
      "provenance": [],
      "authorship_tag": "ABX9TyNdN+52mFCVJLTN3WVUN6yX",
      "include_colab_link": true
    },
    "kernelspec": {
      "name": "python3",
      "display_name": "Python 3"
    },
    "language_info": {
      "name": "python"
    }
  },
  "cells": [
    {
      "cell_type": "markdown",
      "metadata": {
        "id": "view-in-github",
        "colab_type": "text"
      },
      "source": [
        "<a href=\"https://colab.research.google.com/github/VanThiKimKhanh/baitap1/blob/main/btap.ipynb\" target=\"_parent\"><img src=\"https://colab.research.google.com/assets/colab-badge.svg\" alt=\"Open In Colab\"/></a>"
      ]
    },
    {
      "cell_type": "code",
      "metadata": {
        "colab": {
          "base_uri": "https://localhost:8080/"
        },
        "id": "l1cDJV_XMIx7",
        "outputId": "29c5774f-c15e-4dff-bbb2-4f715574f557"
      },
      "source": [
        "score = int(input('Mời nhập điểm: '))\n",
        "if score >= 9.0:\n",
        "  grade = 'Xuất sắc'\n",
        "elif score >= 8.0:\n",
        "  grade = 'Giỏi'\n",
        "elif score >= 7.0:\n",
        "  grade = 'Khá'\n",
        "elif score >= 5.0:\n",
        "  grade = 'Trung bình'\n",
        "else:\n",
        "  grade = 'Yếu'\n",
        "print('Xếp loại của bạn là: ',grade)"
      ],
      "execution_count": 6,
      "outputs": [
        {
          "output_type": "stream",
          "name": "stdout",
          "text": [
            "Mời nhập điểm: 7\n",
            "Xếp loại của bạn là:  Khá\n"
          ]
        }
      ]
    }
  ]
}