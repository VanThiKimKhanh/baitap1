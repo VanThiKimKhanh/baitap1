{
  "nbformat": 4,
  "nbformat_minor": 0,
  "metadata": {
    "colab": {
      "name": "chapter2-exercise.ipynb",
      "provenance": [],
      "include_colab_link": true
    },
    "kernelspec": {
      "name": "python3",
      "display_name": "Python 3"
    }
  },
  "cells": [
    {
      "cell_type": "markdown",
      "metadata": {
        "id": "view-in-github",
        "colab_type": "text"
      },
      "source": [
        "<a href=\"https://colab.research.google.com/github/VanThiKimKhanh/baitap1/blob/main/chapter2_exercise.ipynb\" target=\"_parent\"><img src=\"https://colab.research.google.com/assets/colab-badge.svg\" alt=\"Open In Colab\"/></a>"
      ]
    },
    {
      "cell_type": "markdown",
      "metadata": {
        "id": "sMJ5KoiBMARd"
      },
      "source": [
        "**BÀI TẬP LẬP TRÌNH CHƯƠNG 2**\n",
        "\n",
        "Bài 1: Lập trình nhập vào từ bàn phím 2 số nguyên và tính:\n",
        "\n",
        "\n",
        "1.   Tổng của 2 số\n",
        "2.   Tích của 2 số\n",
        "3.   Hiệu của 2 số\n",
        "4.   Phép chia lấy phần dư của 2 số\n",
        "5.   Phép chia lấy phần nguyên của 2 số\n",
        "\n",
        "Kết quả xuất ra màn hình\n",
        "\n"
      ]
    },
    {
      "cell_type": "code",
      "metadata": {
        "id": "Os5z0wPpL1Nk",
        "colab": {
          "base_uri": "https://localhost:8080/"
        },
        "outputId": "455d07ac-a764-44ad-9a0b-a43f993af298"
      },
      "source": [
        "a = input(\"a=\")\n",
        "b = input(\"b=\")\n",
        "a = int(a)\n",
        "b = int(b)\n",
        "#Tổng của 2 số (gọi c là tổng của hai số)\n",
        "c=a+b\n",
        "print(\"a+b=\",c)\n",
        "#Tích của hai số (gọi d là tích của hai số)\n",
        "d=a*b\n",
        "print(\"a*b=\",d)\n",
        "#Hiệu của hai số(gọi e là hiệu của hai số )\n",
        "e=a-b\n",
        "print(\"a-b=\",e)\n",
        "#Phé chia lấy phần dư của 2 số (gọi f là phần dư của hai số)\n",
        "f= a-b\n",
        "print(\"a%b=\",f)\n",
        "#Phép chia lấy phần nguyên của 2 số (gọi g là phần nguyên của hai số )\n",
        "g=(a-a%b)/b\n",
        "print(\"a/b=\",g)\n",
        "\n",
        "\n",
        "\n"
      ],
      "execution_count": 9,
      "outputs": [
        {
          "output_type": "stream",
          "name": "stdout",
          "text": [
            "a=10\n",
            "b=3\n",
            "a+b= 13\n",
            "a*b= 30\n",
            "a-b= 7\n",
            "a%b= 7\n",
            "a/b= 3.0\n"
          ]
        }
      ]
    },
    {
      "cell_type": "markdown",
      "metadata": {
        "id": "j2suJwVPM5Zk"
      },
      "source": [
        "Bài 2: Lập trình nhập vào từ bàn phím 2 số thực và tính:\n",
        "\n",
        "1.   Tổng của 2 số\n",
        "2.   Tích của 2 số\n",
        "3.   Hiệu của 2 số\n",
        "4.   Thương của 2 số\n",
        "\n",
        "Kết quả xuất ra màn hình"
      ]
    },
    {
      "cell_type": "code",
      "metadata": {
        "id": "fmlD-ggRMh9q",
        "colab": {
          "base_uri": "https://localhost:8080/"
        },
        "outputId": "57ba67c7-ef44-4d7e-a5bb-e3004b4134ac"
      },
      "source": [
        "a=float(input(\"a= \"))\n",
        "b=float(input(\"b= \"))\n",
        "c=a+b\n",
        "print(\"a+b=\",c)\n",
        "d=a*b\n",
        "print(\"a*b=\",d)\n",
        "e=a-b\n",
        "print(\"a-b=\",e)\n",
        "f=a/b\n",
        "print(\"a/b=\",f)\n",
        "\n",
        "\n"
      ],
      "execution_count": 14,
      "outputs": [
        {
          "output_type": "stream",
          "name": "stdout",
          "text": [
            "a= 3\n",
            "b= -6\n",
            "a+b= -3.0\n",
            "a*b= -18.0\n",
            "a-b= 9.0\n",
            "a/b -0.5\n"
          ]
        }
      ]
    },
    {
      "cell_type": "markdown",
      "metadata": {
        "id": "sOCly6AvNUAN"
      },
      "source": [
        "Bài 3: (Sử dụng các hàm toán học) Nhập một số từ bàn phím và tính:\n",
        "\n",
        "\n",
        "\n",
        "1.   Trị tuyệt đối\n",
        "2.   Lấy phần nguyên của số\n",
        "3.   Chuyển đổi thành số thực\n",
        "4.   (nhập thêm 1 số từ bàn phím) và tính lũy thừa $ x^y $\n",
        "5.   Tính căn bậc hai\n",
        "\n",
        "Kết quả xuất ra màn hình\n",
        "\n"
      ]
    },
    {
      "cell_type": "code",
      "metadata": {
        "id": "XNKN4yAoOUAa"
      },
      "source": [
        "#Your code here\n",
        "\n",
        "\n"
      ],
      "execution_count": null,
      "outputs": []
    },
    {
      "cell_type": "markdown",
      "metadata": {
        "id": "79zQGrU5Od-d"
      },
      "source": [
        "Bài 4: Nhập 2 số từ bàn phím và thực hiện các phép so sánh sau giữa 2 số:\n",
        "\n",
        "\n",
        "\n",
        "1.   $ \\geq $\n",
        "2.   $ \\leq $\n",
        "3.   $ > $\n",
        "4.   $ < $\n",
        "5.   $ \\neq $\n",
        "\n",
        "Kết quả xuất ra màn hình\n"
      ]
    },
    {
      "cell_type": "code",
      "metadata": {
        "id": "qePknJEaP1tL"
      },
      "source": [
        "\n",
        "\n",
        "\n",
        "\n"
      ],
      "execution_count": null,
      "outputs": []
    },
    {
      "cell_type": "markdown",
      "metadata": {
        "id": "90lU8sTXP4hu"
      },
      "source": [
        "Bài 5: Nhập 1 chuỗi ký tự từ bàn phím:\n",
        "\n",
        "\n",
        "\n",
        "1.   Chuyển thành chuỗi in hoa\n",
        "2.   Chuyển thành chuỗi in thường\n",
        "\n",
        "Kết quả xuất ra màn hình\n",
        "\n",
        "\n",
        "\n"
      ]
    },
    {
      "cell_type": "code",
      "metadata": {
        "id": "PWIIssukQXja",
        "outputId": "d142ae84-225a-4b77-f84f-b219acb67d18",
        "colab": {
          "base_uri": "https://localhost:8080/"
        }
      },
      "source": [
        "print(\" Hãy nhập một chuỗi: \")\n",
        "print(\" Chuỗi sau khi chuyển thành chữ hoa:\",input(  ).upper())\n",
        "\n",
        "\n",
        "\n",
        "\n",
        "\n",
        "\n",
        "\n",
        "\n"
      ],
      "execution_count": 39,
      "outputs": [
        {
          "output_type": "stream",
          "name": "stdout",
          "text": [
            " Hãy nhập một chuỗi: \n",
            "xin chào bạn\n",
            " Chuỗi sau khi chuyển thành chữ hoa: XIN CHÀO BẠN\n"
          ]
        }
      ]
    },
    {
      "cell_type": "markdown",
      "metadata": {
        "id": "gv9n9-gMQZ7O"
      },
      "source": [
        "Bài 6: Xuất ra màn hình 1 chuỗi ký từ nằm trên nhiều hàng (có thể là 1 bài thơ tùy ý bạn lựa chọn)"
      ]
    },
    {
      "cell_type": "code",
      "metadata": {
        "id": "ZcjBCkQOQoS0",
        "outputId": "7de508ea-9f0b-46c1-9ed4-89c406c5e4db",
        "colab": {
          "base_uri": "https://localhost:8080/"
        }
      },
      "source": [
        "print(\" Anh gặp em vào đầu mùa hạ\") \n",
        "print(\"Ngày cố đô nắng đỏ chang chang\")\n",
        "print(\" Đi bên em anh thấy lòng mát lạ\")\n",
        "print(\"Vì nón em nghiêng gạt nắng xuống Hương Giang\")\n",
        "\n",
        "\n",
        "\n"
      ],
      "execution_count": 17,
      "outputs": [
        {
          "output_type": "stream",
          "name": "stdout",
          "text": [
            " Anh gặp em vào đầu mùa hạ\n",
            "Ngày cố đô nắng đỏ chang chang\n",
            " Đi bên em anh thấy lòng mát lạ\n",
            "Vì nón em nghiêng gạt nắng xuống Hương Giang\n"
          ]
        }
      ]
    }
  ]
}