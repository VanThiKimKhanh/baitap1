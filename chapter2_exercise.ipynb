{
  "nbformat": 4,
  "nbformat_minor": 0,
  "metadata": {
    "colab": {
      "name": "chapter2-exercise.ipynb",
      "provenance": [],
      "include_colab_link": true
    },
    "kernelspec": {
      "name": "python3",
      "display_name": "Python 3"
    }
  },
  "cells": [
    {
      "cell_type": "markdown",
      "metadata": {
        "id": "view-in-github",
        "colab_type": "text"
      },
      "source": [
        "<a href=\"https://colab.research.google.com/github/VanThiKimKhanh/baitap1/blob/main/chapter2_exercise.ipynb\" target=\"_parent\"><img src=\"https://colab.research.google.com/assets/colab-badge.svg\" alt=\"Open In Colab\"/></a>"
      ]
    },
    {
      "cell_type": "markdown",
      "metadata": {
        "id": "sMJ5KoiBMARd"
      },
      "source": [
        "**BÀI TẬP LẬP TRÌNH CHƯƠNG 2**\n",
        "\n",
        "Bài 1: Lập trình nhập vào từ bàn phím 2 số nguyên và tính:\n",
        "\n",
        "\n",
        "1.   Tổng của 2 số\n",
        "2.   Tích của 2 số\n",
        "3.   Hiệu của 2 số\n",
        "4.   Phép chia lấy phần dư của 2 số\n",
        "5.   Phép chia lấy phần nguyên của 2 số\n",
        "\n",
        "Kết quả xuất ra màn hình\n",
        "\n"
      ]
    },
    {
      "cell_type": "code",
      "metadata": {
        "id": "Os5z0wPpL1Nk",
        "colab": {
          "base_uri": "https://localhost:8080/"
        },
        "outputId": "ee9609f2-73c0-4f54-a6ed-c5c116dd5d8b"
      },
      "source": [
        "a = input(\"a=\")\n",
        "b = input(\"b=\")\n",
        "a = int(a)\n",
        "b = int(b)\n",
        "#Tổng của 2 số (gọi c là tổng của hai số)\n",
        "c=a+b\n",
        "print(\"a+b=\",c)\n"
      ],
      "execution_count": 1,
      "outputs": [
        {
          "output_type": "stream",
          "name": "stdout",
          "text": [
            "a=5\n",
            "b=7\n",
            "a+b= 12\n"
          ]
        }
      ]
    },
    {
      "cell_type": "code",
      "metadata": {
        "id": "-Kk4LG5tY_2_",
        "outputId": "39fa1780-2575-4d04-a685-bc361f4e6301",
        "colab": {
          "base_uri": "https://localhost:8080/"
        }
      },
      "source": [
        "a = input(\"a=\")\n",
        "b = input(\"b=\")\n",
        "a = int(a)\n",
        "b = int(b)\n",
        "#Tích của hai số (gọi d là tích của hai số)\n",
        "d=a*b\n",
        "print(\"a*b=\",d)"
      ],
      "execution_count": 2,
      "outputs": [
        {
          "output_type": "stream",
          "name": "stdout",
          "text": [
            "a=8\n",
            "b=5\n",
            "a*b= 40\n"
          ]
        }
      ]
    },
    {
      "cell_type": "code",
      "metadata": {
        "id": "q_sK7gH_ZKdX",
        "outputId": "d5d33745-9b84-4d50-e15a-37a283b34fb3",
        "colab": {
          "base_uri": "https://localhost:8080/"
        }
      },
      "source": [
        "a = input(\"a=\")\n",
        "b = input(\"b=\")\n",
        "a = int(a)\n",
        "b = int(b)\n",
        "#Hiệu của hai số(gọi e là hiệu của hai số )\n",
        "e=a-b\n",
        "print(\"a-b=\",e)"
      ],
      "execution_count": 3,
      "outputs": [
        {
          "output_type": "stream",
          "name": "stdout",
          "text": [
            "a=10\n",
            "b=7\n",
            "a-b= 3\n"
          ]
        }
      ]
    },
    {
      "cell_type": "code",
      "metadata": {
        "id": "DR4YorI7ZOZi",
        "outputId": "605a9f98-ffc0-4cf3-87ce-f4136af71556",
        "colab": {
          "base_uri": "https://localhost:8080/"
        }
      },
      "source": [
        "a = input(\"a=\")\n",
        "b = input(\"b=\")\n",
        "a = int(a)\n",
        "b = int(b)\n",
        "#Phé chia lấy phần dư của 2 số (gọi f là phần dư của hai số)\n",
        "f= a-b\n",
        "print(\"a%b=\",f)"
      ],
      "execution_count": 4,
      "outputs": [
        {
          "output_type": "stream",
          "name": "stdout",
          "text": [
            "a=6\n",
            "b=4\n",
            "a%b= 2\n"
          ]
        }
      ]
    },
    {
      "cell_type": "code",
      "metadata": {
        "id": "RM6cz253ZPVJ",
        "outputId": "493da415-fa1a-4921-a51d-50927b241e26",
        "colab": {
          "base_uri": "https://localhost:8080/"
        }
      },
      "source": [
        "a = input(\"a=\")\n",
        "b = input(\"b=\")\n",
        "a = int(a)\n",
        "b = int(b)\n",
        "#Phép chia lấy phần nguyên của 2 số (gọi g là phần nguyên của hai số )\n",
        "g=(a-a%b)/b\n",
        "print(\"a/b=\",g)"
      ],
      "execution_count": 5,
      "outputs": [
        {
          "output_type": "stream",
          "name": "stdout",
          "text": [
            "a=6\n",
            "b=4\n",
            "a/b= 1.0\n"
          ]
        }
      ]
    },
    {
      "cell_type": "markdown",
      "metadata": {
        "id": "j2suJwVPM5Zk"
      },
      "source": [
        "Bài 2: Lập trình nhập vào từ bàn phím 2 số thực và tính:\n",
        "\n",
        "1.   Tổng của 2 số\n",
        "2.   Tích của 2 số\n",
        "3.   Hiệu của 2 số\n",
        "4.   Thương của 2 số\n",
        "\n",
        "Kết quả xuất ra màn hình"
      ]
    },
    {
      "cell_type": "code",
      "metadata": {
        "id": "fmlD-ggRMh9q",
        "colab": {
          "base_uri": "https://localhost:8080/"
        },
        "outputId": "abf195fe-7cc2-484b-825f-90a75449473a"
      },
      "source": [
        "a=float(input(\"a= \"))\n",
        "b=float(input(\"b= \"))\n",
        "c=a+b\n",
        "print(\"a+b=\",c)"
      ],
      "execution_count": 7,
      "outputs": [
        {
          "output_type": "stream",
          "name": "stdout",
          "text": [
            "a= 0.5\n",
            "b= 3.4\n",
            "a+b= 3.9\n"
          ]
        }
      ]
    },
    {
      "cell_type": "code",
      "metadata": {
        "id": "DKGtcAlzadY7",
        "outputId": "ce893adb-cf7d-431a-b898-22c99aa0cecb",
        "colab": {
          "base_uri": "https://localhost:8080/"
        }
      },
      "source": [
        "a=float(input(\"a= \"))\n",
        "b=float(input(\"b= \"))\n",
        "d=a*b\n",
        "print(\"a*b=\",d)"
      ],
      "execution_count": 8,
      "outputs": [
        {
          "output_type": "stream",
          "name": "stdout",
          "text": [
            "a= 1.2\n",
            "b= 5.6\n",
            "a*b= 6.72\n"
          ]
        }
      ]
    },
    {
      "cell_type": "code",
      "metadata": {
        "id": "haOwBtNvagwK",
        "outputId": "e31d15ac-6832-491e-d519-e139bbc1aa19",
        "colab": {
          "base_uri": "https://localhost:8080/"
        }
      },
      "source": [
        "a=float(input(\"a= \"))\n",
        "b=float(input(\"b= \"))\n",
        "e=a-b\n",
        "print(\"a-b=\",e)"
      ],
      "execution_count": 9,
      "outputs": [
        {
          "output_type": "stream",
          "name": "stdout",
          "text": [
            "a= 9.3\n",
            "b= 1.4\n",
            "a-b= 7.9\n"
          ]
        }
      ]
    },
    {
      "cell_type": "code",
      "metadata": {
        "colab": {
          "base_uri": "https://localhost:8080/"
        },
        "id": "1lCM-aBbaZW3",
        "outputId": "9b69ac31-c9b0-4c84-de43-5d88845f601a"
      },
      "source": [
        "a=float(input(\"a= \"))\n",
        "b=float(input(\"b= \"))\n",
        "f=a/b\n",
        "print(\"a/b=\",f)"
      ],
      "execution_count": 10,
      "outputs": [
        {
          "output_type": "stream",
          "name": "stdout",
          "text": [
            "a= 10.5\n",
            "b= 3.2\n",
            "a/b= 3.28125\n"
          ]
        }
      ]
    },
    {
      "cell_type": "markdown",
      "metadata": {
        "id": "sOCly6AvNUAN"
      },
      "source": [
        "Bài 3: (Sử dụng các hàm toán học) Nhập một số từ bàn phím và tính:\n",
        "\n",
        "\n",
        "\n",
        "1.   Trị tuyệt đối\n",
        "2.   Lấy phần nguyên của số\n",
        "3.   Chuyển đổi thành số thực\n",
        "4.   (nhập thêm 1 số từ bàn phím) và tính lũy thừa $ x^y $\n",
        "5.   Tính căn bậc hai\n",
        "\n",
        "Kết quả xuất ra màn hình\n",
        "\n"
      ]
    },
    {
      "cell_type": "code",
      "metadata": {
        "id": "XNKN4yAoOUAa",
        "outputId": "bb56fc8f-7c47-4aa6-c34b-3a17900f8697",
        "colab": {
          "base_uri": "https://localhost:8080/"
        }
      },
      "source": [
        "num =float(input(\"Mời nhập một số:  \"))\n",
        "print('Giá trị tuyệt đối của  ',num, 'là: ', abs(num))"
      ],
      "execution_count": 21,
      "outputs": [
        {
          "output_type": "stream",
          "name": "stdout",
          "text": [
            "Mời nhập một số:  -5\n",
            "Giá trị tuyệt đối của   -5.0 là:  5.0\n"
          ]
        }
      ]
    },
    {
      "cell_type": "code",
      "metadata": {
        "id": "8pxYUd7AdUX2",
        "outputId": "3da3f941-f4b7-4273-ac68-38cc46fa5fc3",
        "colab": {
          "base_uri": "https://localhost:8080/"
        }
      },
      "source": [
        "a = input(\"a=\")\n",
        "b = input(\"b=\")\n",
        "a = int(a)\n",
        "b = int(b)\n",
        "g=(a-a%b)/b\n",
        "print(\"a/b=\",g)"
      ],
      "execution_count": 22,
      "outputs": [
        {
          "output_type": "stream",
          "name": "stdout",
          "text": [
            "a=8\n",
            "b=2\n",
            "a/b= 4.0\n"
          ]
        }
      ]
    },
    {
      "cell_type": "code",
      "metadata": {
        "id": "4StgipPdd0gv",
        "outputId": "33c0a6b4-767f-4905-b5a6-30644b6c845c",
        "colab": {
          "base_uri": "https://localhost:8080/"
        }
      },
      "source": [
        "x = input(\" Số cơ sở là: \")\n",
        "y = input(\" Số mũ là: \")\n",
        "x = int(x)\n",
        "y = int(y)\n",
        "print('Lũy thừa của',x ,'mũ',y,'là',pow(x, y))"
      ],
      "execution_count": 25,
      "outputs": [
        {
          "output_type": "stream",
          "name": "stdout",
          "text": [
            " Số cơ sở là: 5\n",
            " Số mũ là: 3\n",
            "Lũy thừa của 5 mũ 3 là 125\n"
          ]
        }
      ]
    },
    {
      "cell_type": "code",
      "metadata": {
        "id": "-trvcHRcfjas",
        "outputId": "0312c26a-09d7-44a0-e3a0-afbc8db307fb",
        "colab": {
          "base_uri": "https://localhost:8080/"
        }
      },
      "source": [
        "import math \n",
        "print(\"Vui lòng nhập số cần tính căn bậc hai!\")\n",
        "number = float(input());\n",
        "print(\"Căn bậc hai của số \", number, ' là: ', math.sqrt(number))"
      ],
      "execution_count": 26,
      "outputs": [
        {
          "output_type": "stream",
          "name": "stdout",
          "text": [
            "Vui lòng nhập số cần tính căn bậc hai!\n",
            "4\n",
            "Căn bậc hai của số  4.0  là:  2.0\n"
          ]
        }
      ]
    },
    {
      "cell_type": "markdown",
      "metadata": {
        "id": "79zQGrU5Od-d"
      },
      "source": [
        "Bài 4: Nhập 2 số từ bàn phím và thực hiện các phép so sánh sau giữa 2 số:\n",
        "\n",
        "\n",
        "\n",
        "1.   $ \\geq $\n",
        "2.   $ \\leq $\n",
        "3.   $ > $\n",
        "4.   $ < $\n",
        "5.   $ \\neq $\n",
        "\n",
        "Kết quả xuất ra màn hình\n"
      ]
    },
    {
      "cell_type": "code",
      "metadata": {
        "id": "qePknJEaP1tL",
        "colab": {
          "base_uri": "https://localhost:8080/"
        },
        "outputId": "0e1dac68-1f9b-43f6-db41-03e949e1aee8"
      },
      "source": [
        "a=float(input(\"a=\"))\n",
        "b=float(input(\"b=\"))\n",
        "print(\"a>=b\",a>=b)"
      ],
      "execution_count": 11,
      "outputs": [
        {
          "output_type": "stream",
          "name": "stdout",
          "text": [
            "a=6\n",
            "b=5\n",
            "a>=b True\n"
          ]
        }
      ]
    },
    {
      "cell_type": "code",
      "metadata": {
        "id": "V_9wdhZqbRc1",
        "outputId": "9cfea551-69f7-4e31-9773-c92575cd7652",
        "colab": {
          "base_uri": "https://localhost:8080/"
        }
      },
      "source": [
        "a=float(input(\"a=\"))\n",
        "b=float(input(\"b=\"))\n",
        "print(\"a<=b\",a<=b)"
      ],
      "execution_count": 12,
      "outputs": [
        {
          "output_type": "stream",
          "name": "stdout",
          "text": [
            "a=7\n",
            "b=5\n",
            "a<=b False\n"
          ]
        }
      ]
    },
    {
      "cell_type": "code",
      "metadata": {
        "id": "98izn8jybRvM",
        "outputId": "87c81b6a-3b77-44a3-ddd4-f265bea5ee3f",
        "colab": {
          "base_uri": "https://localhost:8080/"
        }
      },
      "source": [
        "a=float(input(\"a=\"))\n",
        "b=float(input(\"b=\"))\n",
        "print(\"a>b\",a>b)"
      ],
      "execution_count": 13,
      "outputs": [
        {
          "output_type": "stream",
          "name": "stdout",
          "text": [
            "a=8\n",
            "b=3\n",
            "a>b True\n"
          ]
        }
      ]
    },
    {
      "cell_type": "code",
      "metadata": {
        "id": "TZovR-hobR9y",
        "outputId": "844172d7-f20b-496d-c756-26c834de2d31",
        "colab": {
          "base_uri": "https://localhost:8080/"
        }
      },
      "source": [
        "a=float(input(\"a=\"))\n",
        "b=float(input(\"b=\"))\n",
        "print(\"a<b\",a<b)"
      ],
      "execution_count": 14,
      "outputs": [
        {
          "output_type": "stream",
          "name": "stdout",
          "text": [
            "a=8\n",
            "b=3\n",
            "a<b False\n"
          ]
        }
      ]
    },
    {
      "cell_type": "markdown",
      "metadata": {
        "id": "90lU8sTXP4hu"
      },
      "source": [
        "Bài 5: Nhập 1 chuỗi ký tự từ bàn phím:\n",
        "\n",
        "\n",
        "\n",
        "1.   Chuyển thành chuỗi in hoa\n",
        "2.   Chuyển thành chuỗi in thường\n",
        "\n",
        "Kết quả xuất ra màn hình\n",
        "\n",
        "\n",
        "\n"
      ]
    },
    {
      "cell_type": "code",
      "metadata": {
        "id": "PWIIssukQXja",
        "colab": {
          "base_uri": "https://localhost:8080/"
        },
        "outputId": "d142ae84-225a-4b77-f84f-b219acb67d18"
      },
      "source": [
        "print(\" Hãy nhập một chuỗi: \")\n",
        "print(\" Chuỗi sau khi chuyển thành chữ hoa:\",input(  ).upper())"
      ],
      "execution_count": null,
      "outputs": [
        {
          "output_type": "stream",
          "name": "stdout",
          "text": [
            " Hãy nhập một chuỗi: \n",
            "xin chào bạn\n",
            " Chuỗi sau khi chuyển thành chữ hoa: XIN CHÀO BẠN\n"
          ]
        }
      ]
    },
    {
      "cell_type": "markdown",
      "metadata": {
        "id": "gv9n9-gMQZ7O"
      },
      "source": [
        "Bài 6: Xuất ra màn hình 1 chuỗi ký từ nằm trên nhiều hàng (có thể là 1 bài thơ tùy ý bạn lựa chọn)"
      ]
    },
    {
      "cell_type": "code",
      "metadata": {
        "id": "ZcjBCkQOQoS0",
        "colab": {
          "base_uri": "https://localhost:8080/"
        },
        "outputId": "7de508ea-9f0b-46c1-9ed4-89c406c5e4db"
      },
      "source": [
        "print(\" Anh gặp em vào đầu mùa hạ\") \n",
        "print(\"Ngày cố đô nắng đỏ chang chang\")\n",
        "print(\" Đi bên em anh thấy lòng mát lạ\")\n",
        "print(\"Vì nón em nghiêng gạt nắng xuống Hương Giang\")"
      ],
      "execution_count": null,
      "outputs": [
        {
          "output_type": "stream",
          "name": "stdout",
          "text": [
            " Anh gặp em vào đầu mùa hạ\n",
            "Ngày cố đô nắng đỏ chang chang\n",
            " Đi bên em anh thấy lòng mát lạ\n",
            "Vì nón em nghiêng gạt nắng xuống Hương Giang\n"
          ]
        }
      ]
    }
  ]
}